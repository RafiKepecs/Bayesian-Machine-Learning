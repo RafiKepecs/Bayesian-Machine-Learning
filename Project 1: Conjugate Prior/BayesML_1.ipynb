{
  "nbformat": 4,
  "nbformat_minor": 0,
  "metadata": {
    "colab": {
      "name": "BayesML_1.ipynb",
      "provenance": [],
      "collapsed_sections": [],
      "include_colab_link": true
    },
    "kernelspec": {
      "display_name": "Python 3",
      "name": "python3"
    },
    "language_info": {
      "name": "python"
    }
  },
  "cells": [
    {
      "cell_type": "markdown",
      "metadata": {
        "id": "view-in-github",
        "colab_type": "text"
      },
      "source": [
        "<a href=\"https://colab.research.google.com/github/RafiKepecs/Bayesian-Machine-Learning/blob/main/Project%201%3A%20Conjugate%20Prior/BayesML_1.ipynb\" target=\"_parent\"><img src=\"https://colab.research.google.com/assets/colab-badge.svg\" alt=\"Open In Colab\"/></a>"
      ]
    },
    {
      "cell_type": "markdown",
      "metadata": {
        "id": "2C5Jk7GxOA-f"
      },
      "source": [
        "# Project 1: Conjugate Priors"
      ]
    },
    {
      "cell_type": "markdown",
      "metadata": {
        "id": "CET-qNBb0kSC"
      },
      "source": [
        "### Setup"
      ]
    },
    {
      "cell_type": "code",
      "metadata": {
        "id": "rGwO93jANxJ7"
      },
      "source": [
        "from scipy.stats import beta, gamma, norm\n",
        "import numpy as np\n",
        "import matplotlib.pyplot as plt\n",
        "import matplotlib.animation as animation\n",
        "from random import random"
      ],
      "execution_count": null,
      "outputs": []
    },
    {
      "cell_type": "markdown",
      "metadata": {
        "id": "vgFfRSIkOLBC"
      },
      "source": [
        "# Part 1: Estimating Probability of Binomial RV"
      ]
    },
    {
      "cell_type": "markdown",
      "metadata": {
        "id": "V632ua45OW08"
      },
      "source": [
        "### Select Model Parameters\n",
        "\n",
        "Model parameters a0 and b0 correspond to the prior beta estimation of coin's heads-probability.\n",
        "\n",
        "N is the number of simulated coin flips, and p is the probability of an individual coin flip showing heads."
      ]
    },
    {
      "cell_type": "code",
      "metadata": {
        "id": "-UCG_UGGN85_"
      },
      "source": [
        "# Prior beta distribution parameters\n",
        "a0 = 30\n",
        "b0 = 10\n",
        "\n",
        "# Coin flip parameters\n",
        "N = 500\n",
        "p = .3"
      ],
      "execution_count": null,
      "outputs": []
    },
    {
      "cell_type": "markdown",
      "metadata": {
        "id": "Q8F9SeorPbx7"
      },
      "source": [
        "### Generate Coin-Flip Results\n",
        "\n",
        "Perform N coin flips, using the flip(p) function defined below, returning 1 (heads) with a probability of p.\n",
        "\n",
        "Record results in binary list \"flips\", and calculate values of a and b after each flip."
      ]
    },
    {
      "cell_type": "code",
      "metadata": {
        "id": "cIRtYdKBOHKI"
      },
      "source": [
        "# Biased coin flip function (returns 1 (i.e. - heads) with probability p)\n",
        "def flip(p):\n",
        "    return random() < p\n",
        "\n",
        "# Flip coin N times\n",
        "flips = [flip(p) for i in range(N)]"
      ],
      "execution_count": null,
      "outputs": []
    },
    {
      "cell_type": "markdown",
      "metadata": {
        "id": "XqI5w-zpOt1A"
      },
      "source": [
        "### Calculations\n",
        "\n",
        "Calculate the a[n] and b[n] values of the beta distribution after each coin flip"
      ]
    },
    {
      "cell_type": "code",
      "metadata": {
        "id": "RPvkIxzHQrql"
      },
      "source": [
        "# Total heads at after each flip\n",
        "m = [0] + [sum(flips[:i]) for i in range(N)]\n",
        "\n",
        "# a and b values after each flip [ a = a0 + m;    b = b0 + (N-m) ]\n",
        "a = [a0 + m[i] for i in range(N)]\n",
        "b = [b0 + (i - m[i]) for i in range(N) ]"
      ],
      "execution_count": null,
      "outputs": []
    },
    {
      "cell_type": "markdown",
      "metadata": {
        "id": "YPgCHG8HEADB"
      },
      "source": [
        "### Plot Results\n",
        "\n",
        "Plot the prior and posterior beta distributions of the estimated heads-probability of the coin"
      ]
    },
    {
      "cell_type": "code",
      "metadata": {
        "colab": {
          "base_uri": "https://localhost:8080/",
          "height": 281
        },
        "id": "SbOa3wRkEQyu",
        "outputId": "b5e0ba3a-1d68-444f-f5b0-fe0e8ff2bdc2"
      },
      "source": [
        "fig, ax = plt.subplots()\n",
        "\n",
        "# Probability-axis\n",
        "x = np.linspace(0, 1, 1000)\n",
        "\n",
        "# y-data of initial and final estimator distributions\n",
        "y0 = beta.pdf(x, a0, b0)\n",
        "yf = beta.pdf(x, a[-1], b[-1])\n",
        "\n",
        "# Plot prior distribution (semi-transparent, in background)\n",
        "l0 = plt.plot(x, y0, alpha=.3)\n",
        "\n",
        "# Plot posterior distribution\n",
        "# Also initializes distribution variable for use in animation function\n",
        "distribution = plt.plot(x, yf)[0]\n",
        "\n",
        "# Set axis limits\n",
        "# Assume maximum y-value occurs in initial or final distribution\n",
        "max_y = max(y0 + yf) + 2\n",
        "ax = plt.axis([0, 1, 0, max_y])\n",
        "\n",
        "# Format plot\n",
        "plt.title('Biased Coin Flip Probability Estimator')\n",
        "plt.legend(['Prior', 'Posterior'])\n",
        "plt.show()"
      ],
      "execution_count": null,
      "outputs": [
        {
          "output_type": "display_data",
          "data": {
            "image/png": "[encoded data removed]",
            "text/plain": [
              "<Figure size 432x288 with 1 Axes>"
            ]
          },
          "metadata": {
            "tags": [],
            "needs_background": "light"
          }
        }
      ]
    },
    {
      "cell_type": "markdown",
      "metadata": {
        "id": "yWuza4tjQnWI"
      },
      "source": [
        "### Create Animation\n",
        "\n",
        "Show the evolution of the beta distribution, starting from the prior, as new coin-flip data is added to the model.\n"
      ]
    },
    {
      "cell_type": "code",
      "metadata": {
        "id": "2KKL2ImuOOMx"
      },
      "source": [
        "# Animation function\n",
        "def animate(i):\n",
        "    \n",
        "    # Find beta distribution for current a/b values\n",
        "    y = beta.pdf(x, a[i], b[i])\n",
        "    \n",
        "    # Update distribution variable\n",
        "    distribution.set_data(x, y)\n",
        "    \n",
        "    return distribution,\n",
        "\n",
        "\n",
        "# Create animation\n",
        "anim = animation.FuncAnimation(fig, animate, frames = N, interval = 50, blit = True) \n",
        "\n",
        "# Save animation\n",
        "anim.save('movie.mp4', writer = 'ffmpeg', fps = 60)"
      ],
      "execution_count": null,
      "outputs": []
    },
    {
      "cell_type": "markdown",
      "metadata": {
        "id": "cHoRYS3Czn1A"
      },
      "source": [
        "# Part 2: Estimating the Distribution of a Gaussian RV"
      ]
    },
    {
      "cell_type": "markdown",
      "metadata": {
        "id": "jVwVrikKOhBZ"
      },
      "source": [
        "## A) Estimating Mean of Gaussian With Known Variance"
      ]
    },
    {
      "cell_type": "code",
      "metadata": {
        "id": "14SCnjX9Sl-4",
        "colab": {
          "base_uri": "https://localhost:8080/",
          "height": 265
        },
        "outputId": "35613324-5ff1-4804-acf3-a7a849a549c7"
      },
      "source": [
        "\n",
        "N = 10\n",
        "\n",
        "xg = np.linspace(-1, 1, 1000)\n",
        "\n",
        "var_ground_truth = 0.1\n",
        "\n",
        "mean_ground_truth = 0.8\n",
        "\n",
        "flips_gaussian = np.random.normal(mean_ground_truth , var_ground_truth , N) \n",
        "\n",
        "var_prior = var_ground_truth\n",
        "\n",
        "# Total heads at after each flip\n",
        "m = [sum(flips_gaussian[:i]) for i in range(N)]\n",
        "\n",
        "mean_max_likelihood = [1/i * m[i] for i in range(1,N)]\n",
        "\n",
        "var_likelihood = var_ground_truth \n",
        "\n",
        "mean_prior = 0\n",
        "\n",
        "yg0 = norm.pdf(xg,mean_prior, var_prior)\n",
        "\n",
        "plt.plot(xg,yg0)\n",
        "\n",
        "for i in range(1, N-1):\n",
        "    mean_current = var_ground_truth/(i*var_prior+var_ground_truth)*mean_prior + (i*var_prior)/(i*var_prior+var_ground_truth)*mean_max_likelihood[i]\n",
        "    var_current = 1/(1/var_prior+i/var_ground_truth)\n",
        "    yg = norm.pdf(xg,mean_current,var_current)\n",
        "    plt.plot(xg,yg)"
      ],
      "execution_count": null,
      "outputs": [
        {
          "output_type": "display_data",
          "data": {
            "image/png": "[encoded data removed]",
            "text/plain": [
              "<Figure size 432x288 with 1 Axes>"
            ]
          },
          "metadata": {
            "tags": [],
            "needs_background": "light"
          }
        }
      ]
    },
    {
      "cell_type": "markdown",
      "metadata": {
        "id": "RpIGLwLJRWuk"
      },
      "source": [
        "## B) Estimating Variance of Gaussian With Known Mean"
      ]
    },
    {
      "cell_type": "markdown",
      "metadata": {
        "id": "B5Ali3nOBQaP"
      },
      "source": [
        "Ok, so something here is obviously wrong. Not sure what."
      ]
    },
    {
      "cell_type": "code",
      "metadata": {
        "id": "gciaSYg4V3sK",
        "colab": {
          "base_uri": "https://localhost:8080/",
          "height": 285
        },
        "outputId": "720e3025-f45a-4db8-daa1-6df17665013d"
      },
      "source": [
        "# Prior gamma distribution parameters\n",
        "a0 = 4\n",
        "b0 = 6\n",
        "\n",
        "# Gaussian RV sample parameters\n",
        "mu = 100\n",
        "var = 15\n",
        "N = 300\n",
        "\n",
        "# Generate Data\n",
        "data = np.random.normal(mu, var, N)\n",
        "\n",
        "# Calculate most likely variance after the addition of each data point\n",
        "sq_err = [(data[i] - mu)**2 for i in range(N)]\n",
        "var_ML = [ sum(sq_err[:i+1]) for i in range(N)]\n",
        "\n",
        "# Calculate a and b after the addition of each data point\n",
        "a = [a0 + i/2 for i in range(N)]\n",
        "b = [b0 + (i/2)*var_ML[i] for i in range(N)]\n",
        "\n",
        "# Calculate prior and posterior gamma distributions\n",
        "x = np.linspace(0, 1, 1000)\n",
        "y0 = gamma.pdf(x, a0, scale=1/b0, )\n",
        "yf = gamma.pdf(x, a[-1], scale=1/b[-1])\n",
        "\n",
        "# Plot\n",
        "plt.plot(x, y0)\n",
        "plt.plot(x, yf)\n",
        "plt.legend(['Prior', 'Posterior'])"
      ],
      "execution_count": null,
      "outputs": [
        {
          "output_type": "execute_result",
          "data": {
            "text/plain": [
              "<matplotlib.legend.Legend at 0x7fa5ad127cd0>"
            ]
          },
          "metadata": {
            "tags": []
          },
          "execution_count": 7
        },
        {
          "output_type": "display_data",
          "data": {
            "image/png": "[encoded data removed]",
            "text/plain": [
              "<Figure size 432x288 with 1 Axes>"
            ]
          },
          "metadata": {
            "tags": [],
            "needs_background": "light"
          }
        }
      ]
    },
    {
      "cell_type": "markdown",
      "metadata": {
        "id": "nCcAL4GrRbW9"
      },
      "source": [
        "## C) Estimating Both Mean and Variance of Gaussian"
      ]
    }
  ]
}